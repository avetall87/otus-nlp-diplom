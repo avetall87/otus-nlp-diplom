{
 "cells": [
  {
   "attachments": {},
   "cell_type": "markdown",
   "metadata": {},
   "source": [
    "# Загрузить датасет"
   ]
  },
  {
   "cell_type": "code",
   "execution_count": 1,
   "metadata": {},
   "outputs": [],
   "source": [
    "# Добавляем импорты\n",
    "\n",
    "from gensim.models import FastText\n",
    "import pandas as pd\n",
    "import numpy as np\n",
    "import pymorphy2\n",
    "import nltk  # Natural Language Toolkit - для загрузки стоп слов русского языка\n",
    "import re\n",
    "\n",
    "from sklearn.ensemble import RandomForestClassifier\n",
    "from sklearn.feature_extraction.text import TfidfVectorizer\n",
    "from tqdm import tqdm  # прогресбарbincount\n",
    "\n",
    "from sklearn.model_selection import train_test_split  # рабиваем данные на traint и test"
   ]
  },
  {
   "attachments": {},
   "cell_type": "markdown",
   "metadata": {},
   "source": [
    "### Создаем утилиты для работы с датасетом"
   ]
  },
  {
   "cell_type": "code",
   "execution_count": 2,
   "metadata": {},
   "outputs": [],
   "source": [
    "regex = re.compile(r'[А-Яа-яA-zёЁ-]+')\n",
    "def words_only(text, regex=regex):\n",
    "    try:\n",
    "        return \" \".join(regex.findall(text)).lower()\n",
    "    except Exception as e:\n",
    "        return \"\""
   ]
  },
  {
   "cell_type": "code",
   "execution_count": 65,
   "metadata": {},
   "outputs": [],
   "source": [
    "def process_data(data, all_stop_words) -> []:\n",
    "    word_tokenizer = nltk.WordPunctTokenizer()\n",
    "\n",
    "    texts = []\n",
    "    targets = []\n",
    "\n",
    "    # инициализируем лемматизатор\n",
    "    morph = pymorphy2.MorphAnalyzer()\n",
    "\n",
    "    # поочередно проходим по всем новостям в списке\n",
    "    for item in tqdm(data):\n",
    "        text_lower = words_only(item)  # оставим только слова\n",
    "        tokens = word_tokenizer.tokenize(text_lower)  # разбиваем текст на слова\n",
    "\n",
    "        # удаляем пунктуацию и стоп-слова, а так же лемитизируем  слова\n",
    "        tokens = [morph.parse(word)[0].normal_form for word in tokens if\n",
    "                  (word not in all_stop_words and not word.isnumeric())]\n",
    "\n",
    "        # texts.append(tokens) # добавляем в предобработанный список\n",
    "        texts.append(' '.join(tokens).strip())\n",
    "\n",
    "    return texts"
   ]
  },
  {
   "cell_type": "code",
   "execution_count": 5,
   "metadata": {},
   "outputs": [],
   "source": [
    "def read_prepared_datasets(file_name) -> []:\n",
    "    result = []\n",
    "    with open(file_name, 'r', encoding='utf-8') as file:\n",
    "        for line in file.readlines():\n",
    "            # result.append(line.replace('\\n', ''))\n",
    "            result.append(line)\n",
    "    return result"
   ]
  },
  {
   "cell_type": "code",
   "execution_count": 6,
   "metadata": {},
   "outputs": [
    {
     "name": "stderr",
     "output_type": "stream",
     "text": [
      "[nltk_data] Downloading package stopwords to\n",
      "[nltk_data]     /home/avetall87/nltk_data...\n",
      "[nltk_data]   Package stopwords is already up-to-date!\n"
     ]
    }
   ],
   "source": [
    "# загружаем список стоп-слов для русского\n",
    "nltk.download('stopwords')\n",
    "stop_words = nltk.corpus.stopwords.words('russian')"
   ]
  },
  {
   "cell_type": "code",
   "execution_count": 7,
   "metadata": {},
   "outputs": [],
   "source": [
    "prepared_dataset_file_name = 'dataset/prepared_dataset.txt'\n",
    "\n",
    "# расширим список стоп-слов, словами, которые являеются стоп-словами в данной задаче\n",
    "add_stop_words = ['ао', 'оао', 'ооо']\n",
    "months = ['январь', 'февраль', 'март', 'апрель', 'май', 'июнь', 'июль', 'август', 'сентябрь', 'октябрь', 'ноябрь',\n",
    "            'декабрь', ]\n",
    "all_stop_words = stop_words + add_stop_words + months\n",
    "\n",
    "df = pd.read_csv('dataset/dataset.csv', sep=',', engine='python')\n",
    "\n",
    "y = df['title'].tolist()"
   ]
  },
  {
   "cell_type": "code",
   "execution_count": 8,
   "metadata": {},
   "outputs": [
    {
     "data": {
      "text/plain": [
       "['подвижный сбор год днёвка деревня катеринный\\n',\n",
       " 'герой советский союз лётчик медноног скульптор м аникушин генеральный консул народный республика болгария ленинград вангел петрович трынок слева направо мастерская скульптор\\n',\n",
       " 'дважды герой соц труд смирнов избирательный участок время выборы местный совет народный судья\\n']"
      ]
     },
     "execution_count": 8,
     "metadata": {},
     "output_type": "execute_result"
    }
   ],
   "source": [
    "texts = read_prepared_datasets(prepared_dataset_file_name)\n",
    "len(texts)\n",
    "texts[0:3]"
   ]
  },
  {
   "attachments": {},
   "cell_type": "markdown",
   "metadata": {},
   "source": [
    "# Создаем модель FastText и обучаем ее"
   ]
  },
  {
   "cell_type": "code",
   "execution_count": 12,
   "metadata": {},
   "outputs": [],
   "source": [
    "prepared_vocabulary = []\n",
    "\n",
    "for words in texts:\n",
    "  splitted_data = words.split(' ')\n",
    "  prepared_vocabulary.append(splitted_data)"
   ]
  },
  {
   "cell_type": "code",
   "execution_count": 13,
   "metadata": {},
   "outputs": [],
   "source": [
    "model = FastText(prepared_vocabulary,min_count=1, vector_size=100, workers=4)"
   ]
  },
  {
   "cell_type": "code",
   "execution_count": 16,
   "metadata": {},
   "outputs": [],
   "source": [
    "model.save('./model/fasttext_pretrained.bin')"
   ]
  },
  {
   "cell_type": "code",
   "execution_count": 17,
   "metadata": {},
   "outputs": [
    {
     "name": "stderr",
     "output_type": "stream",
     "text": [
      "100%|██████████| 116000/116000 [00:00<00:00, 925554.98it/s]\n"
     ]
    }
   ],
   "source": [
    "#TF-IDF # needs a list of lists for words and docs along with a fasttext 'model'\n",
    "text = []\n",
    "for i in tqdm(prepared_vocabulary):\n",
    "  string = ' '.join(i)\n",
    "  text.append(string)\n",
    "tf_idf_vect = TfidfVectorizer(stop_words=None)\n",
    "final_tf_idf = tf_idf_vect.fit_transform(text)\n",
    "tfidf_feat = list(tf_idf_vect.get_feature_names_out())"
   ]
  },
  {
   "cell_type": "code",
   "execution_count": 18,
   "metadata": {},
   "outputs": [
    {
     "name": "stderr",
     "output_type": "stream",
     "text": [
      " 82%|████████▏ | 95232/116000 [03:43<00:47, 435.24it/s]/tmp/ipykernel_781707/3216452434.py:19: RuntimeWarning: invalid value encountered in divide\n",
      "  sent_vec /= weight_sum\n",
      "100%|██████████| 116000/116000 [04:33<00:00, 424.33it/s]"
     ]
    },
    {
     "name": "stdout",
     "output_type": "stream",
     "text": [
      "errors noted: 1\n"
     ]
    },
    {
     "name": "stderr",
     "output_type": "stream",
     "text": [
      "\n"
     ]
    }
   ],
   "source": [
    "tfidf_sent_vectors = []; # the tfidf-w2v for each sentence/review is stored in this list\n",
    "\n",
    "row=0;\n",
    "errors=0\n",
    "for sent in tqdm(texts): # for each review/sentence\n",
    "    sent_vec = np.zeros(100) # as word vectors are of zero length\n",
    "    try:\n",
    "        weight_sum =0; # num of words with a valid vector in the sentence/review\n",
    "        for word in sent.split(' '): # for each word in a review/sentence\n",
    "            word = word.replace('\\n', '') # костыль\n",
    "            try:\n",
    "                vec = model.wv[word]\n",
    "                # obtain the tf_idfidf of a word in a sentence/review\n",
    "                tfidf = final_tf_idf [row, tfidf_feat.index(word)]\n",
    "                sent_vec += (vec * tfidf)\n",
    "                weight_sum += tfidf\n",
    "            except Exception as e:\n",
    "                errors =+1\n",
    "        sent_vec /= weight_sum\n",
    "        tfidf_sent_vectors.append(sent_vec)\n",
    "        row += 1\n",
    "    except Exception as e:\n",
    "        errors =+1\n",
    "        row += 1\n",
    "print('errors noted: '+str(errors))"
   ]
  },
  {
   "cell_type": "code",
   "execution_count": 19,
   "metadata": {},
   "outputs": [],
   "source": [
    "df['FT_tfidf'] = tfidf_sent_vectors"
   ]
  },
  {
   "cell_type": "code",
   "execution_count": 20,
   "metadata": {},
   "outputs": [
    {
     "data": {
      "text/html": [
       "<div>\n",
       "<style scoped>\n",
       "    .dataframe tbody tr th:only-of-type {\n",
       "        vertical-align: middle;\n",
       "    }\n",
       "\n",
       "    .dataframe tbody tr th {\n",
       "        vertical-align: top;\n",
       "    }\n",
       "\n",
       "    .dataframe thead th {\n",
       "        text-align: right;\n",
       "    }\n",
       "</style>\n",
       "<table border=\"1\" class=\"dataframe\">\n",
       "  <thead>\n",
       "    <tr style=\"text-align: right;\">\n",
       "      <th></th>\n",
       "      <th>title</th>\n",
       "      <th>text</th>\n",
       "      <th>FT_tfidf</th>\n",
       "    </tr>\n",
       "  </thead>\n",
       "  <tbody>\n",
       "    <tr>\n",
       "      <th>0</th>\n",
       "      <td>6_KffdPhotoDoc_65243</td>\n",
       "      <td>Подвижной сбор 1901 года.Дневка у деревни Кате...</td>\n",
       "      <td>[0.4116544160848603, 1.0964632404917214, -0.35...</td>\n",
       "    </tr>\n",
       "    <tr>\n",
       "      <th>1</th>\n",
       "      <td>6_KffdPhotoDoc_941</td>\n",
       "      <td>Герой Советского Союза, летчик В.А.Медноногов,...</td>\n",
       "      <td>[-0.11494636164310777, -0.0835563225234515, 0....</td>\n",
       "    </tr>\n",
       "    <tr>\n",
       "      <th>2</th>\n",
       "      <td>6_KffdPhotoDoc_6002</td>\n",
       "      <td>Дважды Герой Соц.Труда В.А.Смирнов на избирате...</td>\n",
       "      <td>[-0.37379294465812923, -0.18142475095465768, 0...</td>\n",
       "    </tr>\n",
       "    <tr>\n",
       "      <th>3</th>\n",
       "      <td>6_KffdPhotoDoc_65096</td>\n",
       "      <td>Вид сверху на казармы полка.</td>\n",
       "      <td>[-0.27052257421680426, 2.7671281437643973, 0.8...</td>\n",
       "    </tr>\n",
       "    <tr>\n",
       "      <th>4</th>\n",
       "      <td>6_KffdPhotoDoc_95843</td>\n",
       "      <td>Генерал казачьих войск Холмский (сидит 2-ой сл...</td>\n",
       "      <td>[-0.7048170104829009, 1.1691046676297512, 1.43...</td>\n",
       "    </tr>\n",
       "    <tr>\n",
       "      <th>5</th>\n",
       "      <td>6_KffdPhotoDoc_66745</td>\n",
       "      <td>Секции армокаркаса у подножия бокового корпуса.</td>\n",
       "      <td>[-0.19617305594635462, 1.14377264431047, 0.266...</td>\n",
       "    </tr>\n",
       "    <tr>\n",
       "      <th>6</th>\n",
       "      <td>6_KffdPhotoDoc_58622</td>\n",
       "      <td>Кавалерийские части на параде войск проходят м...</td>\n",
       "      <td>[-0.6553515271295852, 0.6134593769388038, 1.54...</td>\n",
       "    </tr>\n",
       "    <tr>\n",
       "      <th>7</th>\n",
       "      <td>6_KffdPhotoDoc_71835</td>\n",
       "      <td>Пассажирский поезд прибыл на Финляндский вокзал.</td>\n",
       "      <td>[-0.7451638977312363, 0.19082692085069672, 1.2...</td>\n",
       "    </tr>\n",
       "    <tr>\n",
       "      <th>8</th>\n",
       "      <td>6_KffdPhotoDoc_112688</td>\n",
       "      <td>Хирург, профессор, орденоносец И.П.Виноградов ...</td>\n",
       "      <td>[-0.6193937706347936, 0.3283097044444246, 0.87...</td>\n",
       "    </tr>\n",
       "    <tr>\n",
       "      <th>9</th>\n",
       "      <td>6_KffdPhotoDoc_18624</td>\n",
       "      <td>Скульптор В.Б. Пинчук за работой над скульптур...</td>\n",
       "      <td>[-0.01576843721590673, 0.5509282297272745, 0.6...</td>\n",
       "    </tr>\n",
       "  </tbody>\n",
       "</table>\n",
       "</div>"
      ],
      "text/plain": [
       "                   title                                               text   \n",
       "0   6_KffdPhotoDoc_65243  Подвижной сбор 1901 года.Дневка у деревни Кате...  \\\n",
       "1     6_KffdPhotoDoc_941  Герой Советского Союза, летчик В.А.Медноногов,...   \n",
       "2    6_KffdPhotoDoc_6002  Дважды Герой Соц.Труда В.А.Смирнов на избирате...   \n",
       "3   6_KffdPhotoDoc_65096                       Вид сверху на казармы полка.   \n",
       "4   6_KffdPhotoDoc_95843  Генерал казачьих войск Холмский (сидит 2-ой сл...   \n",
       "5   6_KffdPhotoDoc_66745    Секции армокаркаса у подножия бокового корпуса.   \n",
       "6   6_KffdPhotoDoc_58622  Кавалерийские части на параде войск проходят м...   \n",
       "7   6_KffdPhotoDoc_71835   Пассажирский поезд прибыл на Финляндский вокзал.   \n",
       "8  6_KffdPhotoDoc_112688  Хирург, профессор, орденоносец И.П.Виноградов ...   \n",
       "9   6_KffdPhotoDoc_18624  Скульптор В.Б. Пинчук за работой над скульптур...   \n",
       "\n",
       "                                            FT_tfidf  \n",
       "0  [0.4116544160848603, 1.0964632404917214, -0.35...  \n",
       "1  [-0.11494636164310777, -0.0835563225234515, 0....  \n",
       "2  [-0.37379294465812923, -0.18142475095465768, 0...  \n",
       "3  [-0.27052257421680426, 2.7671281437643973, 0.8...  \n",
       "4  [-0.7048170104829009, 1.1691046676297512, 1.43...  \n",
       "5  [-0.19617305594635462, 1.14377264431047, 0.266...  \n",
       "6  [-0.6553515271295852, 0.6134593769388038, 1.54...  \n",
       "7  [-0.7451638977312363, 0.19082692085069672, 1.2...  \n",
       "8  [-0.6193937706347936, 0.3283097044444246, 0.87...  \n",
       "9  [-0.01576843721590673, 0.5509282297272745, 0.6...  "
      ]
     },
     "execution_count": 20,
     "metadata": {},
     "output_type": "execute_result"
    }
   ],
   "source": [
    "df.head(10)"
   ]
  },
  {
   "cell_type": "code",
   "execution_count": 21,
   "metadata": {},
   "outputs": [],
   "source": [
    "# Сохраняем данные в файл\n",
    "df.to_csv(path_or_buf='dataset/result.csv', encoding='utf-8', index_label=['title', 'FT_tfidf'])"
   ]
  },
  {
   "cell_type": "code",
   "execution_count": 15,
   "metadata": {},
   "outputs": [
    {
     "ename": "FileNotFoundError",
     "evalue": "[Errno 2] No such file or directory: 'dataset/result.csv'",
     "output_type": "error",
     "traceback": [
      "\u001b[0;31m---------------------------------------------------------------------------\u001b[0m",
      "\u001b[0;31mFileNotFoundError\u001b[0m                         Traceback (most recent call last)",
      "Cell \u001b[0;32mIn[15], line 1\u001b[0m\n\u001b[0;32m----> 1\u001b[0m df \u001b[39m=\u001b[39m pd\u001b[39m.\u001b[39;49mread_csv(\u001b[39m'\u001b[39;49m\u001b[39mdataset/result.csv\u001b[39;49m\u001b[39m'\u001b[39;49m, sep\u001b[39m=\u001b[39;49m\u001b[39m'\u001b[39;49m\u001b[39m,\u001b[39;49m\u001b[39m'\u001b[39;49m, engine\u001b[39m=\u001b[39;49m\u001b[39m'\u001b[39;49m\u001b[39mpython\u001b[39;49m\u001b[39m'\u001b[39;49m)\n",
      "File \u001b[0;32m~/development/otus/diplom/venv/lib/python3.10/site-packages/pandas/io/parsers/readers.py:912\u001b[0m, in \u001b[0;36mread_csv\u001b[0;34m(filepath_or_buffer, sep, delimiter, header, names, index_col, usecols, dtype, engine, converters, true_values, false_values, skipinitialspace, skiprows, skipfooter, nrows, na_values, keep_default_na, na_filter, verbose, skip_blank_lines, parse_dates, infer_datetime_format, keep_date_col, date_parser, date_format, dayfirst, cache_dates, iterator, chunksize, compression, thousands, decimal, lineterminator, quotechar, quoting, doublequote, escapechar, comment, encoding, encoding_errors, dialect, on_bad_lines, delim_whitespace, low_memory, memory_map, float_precision, storage_options, dtype_backend)\u001b[0m\n\u001b[1;32m    899\u001b[0m kwds_defaults \u001b[39m=\u001b[39m _refine_defaults_read(\n\u001b[1;32m    900\u001b[0m     dialect,\n\u001b[1;32m    901\u001b[0m     delimiter,\n\u001b[0;32m   (...)\u001b[0m\n\u001b[1;32m    908\u001b[0m     dtype_backend\u001b[39m=\u001b[39mdtype_backend,\n\u001b[1;32m    909\u001b[0m )\n\u001b[1;32m    910\u001b[0m kwds\u001b[39m.\u001b[39mupdate(kwds_defaults)\n\u001b[0;32m--> 912\u001b[0m \u001b[39mreturn\u001b[39;00m _read(filepath_or_buffer, kwds)\n",
      "File \u001b[0;32m~/development/otus/diplom/venv/lib/python3.10/site-packages/pandas/io/parsers/readers.py:577\u001b[0m, in \u001b[0;36m_read\u001b[0;34m(filepath_or_buffer, kwds)\u001b[0m\n\u001b[1;32m    574\u001b[0m _validate_names(kwds\u001b[39m.\u001b[39mget(\u001b[39m\"\u001b[39m\u001b[39mnames\u001b[39m\u001b[39m\"\u001b[39m, \u001b[39mNone\u001b[39;00m))\n\u001b[1;32m    576\u001b[0m \u001b[39m# Create the parser.\u001b[39;00m\n\u001b[0;32m--> 577\u001b[0m parser \u001b[39m=\u001b[39m TextFileReader(filepath_or_buffer, \u001b[39m*\u001b[39;49m\u001b[39m*\u001b[39;49mkwds)\n\u001b[1;32m    579\u001b[0m \u001b[39mif\u001b[39;00m chunksize \u001b[39mor\u001b[39;00m iterator:\n\u001b[1;32m    580\u001b[0m     \u001b[39mreturn\u001b[39;00m parser\n",
      "File \u001b[0;32m~/development/otus/diplom/venv/lib/python3.10/site-packages/pandas/io/parsers/readers.py:1407\u001b[0m, in \u001b[0;36mTextFileReader.__init__\u001b[0;34m(self, f, engine, **kwds)\u001b[0m\n\u001b[1;32m   1404\u001b[0m     \u001b[39mself\u001b[39m\u001b[39m.\u001b[39moptions[\u001b[39m\"\u001b[39m\u001b[39mhas_index_names\u001b[39m\u001b[39m\"\u001b[39m] \u001b[39m=\u001b[39m kwds[\u001b[39m\"\u001b[39m\u001b[39mhas_index_names\u001b[39m\u001b[39m\"\u001b[39m]\n\u001b[1;32m   1406\u001b[0m \u001b[39mself\u001b[39m\u001b[39m.\u001b[39mhandles: IOHandles \u001b[39m|\u001b[39m \u001b[39mNone\u001b[39;00m \u001b[39m=\u001b[39m \u001b[39mNone\u001b[39;00m\n\u001b[0;32m-> 1407\u001b[0m \u001b[39mself\u001b[39m\u001b[39m.\u001b[39m_engine \u001b[39m=\u001b[39m \u001b[39mself\u001b[39;49m\u001b[39m.\u001b[39;49m_make_engine(f, \u001b[39mself\u001b[39;49m\u001b[39m.\u001b[39;49mengine)\n",
      "File \u001b[0;32m~/development/otus/diplom/venv/lib/python3.10/site-packages/pandas/io/parsers/readers.py:1661\u001b[0m, in \u001b[0;36mTextFileReader._make_engine\u001b[0;34m(self, f, engine)\u001b[0m\n\u001b[1;32m   1659\u001b[0m     \u001b[39mif\u001b[39;00m \u001b[39m\"\u001b[39m\u001b[39mb\u001b[39m\u001b[39m\"\u001b[39m \u001b[39mnot\u001b[39;00m \u001b[39min\u001b[39;00m mode:\n\u001b[1;32m   1660\u001b[0m         mode \u001b[39m+\u001b[39m\u001b[39m=\u001b[39m \u001b[39m\"\u001b[39m\u001b[39mb\u001b[39m\u001b[39m\"\u001b[39m\n\u001b[0;32m-> 1661\u001b[0m \u001b[39mself\u001b[39m\u001b[39m.\u001b[39mhandles \u001b[39m=\u001b[39m get_handle(\n\u001b[1;32m   1662\u001b[0m     f,\n\u001b[1;32m   1663\u001b[0m     mode,\n\u001b[1;32m   1664\u001b[0m     encoding\u001b[39m=\u001b[39;49m\u001b[39mself\u001b[39;49m\u001b[39m.\u001b[39;49moptions\u001b[39m.\u001b[39;49mget(\u001b[39m\"\u001b[39;49m\u001b[39mencoding\u001b[39;49m\u001b[39m\"\u001b[39;49m, \u001b[39mNone\u001b[39;49;00m),\n\u001b[1;32m   1665\u001b[0m     compression\u001b[39m=\u001b[39;49m\u001b[39mself\u001b[39;49m\u001b[39m.\u001b[39;49moptions\u001b[39m.\u001b[39;49mget(\u001b[39m\"\u001b[39;49m\u001b[39mcompression\u001b[39;49m\u001b[39m\"\u001b[39;49m, \u001b[39mNone\u001b[39;49;00m),\n\u001b[1;32m   1666\u001b[0m     memory_map\u001b[39m=\u001b[39;49m\u001b[39mself\u001b[39;49m\u001b[39m.\u001b[39;49moptions\u001b[39m.\u001b[39;49mget(\u001b[39m\"\u001b[39;49m\u001b[39mmemory_map\u001b[39;49m\u001b[39m\"\u001b[39;49m, \u001b[39mFalse\u001b[39;49;00m),\n\u001b[1;32m   1667\u001b[0m     is_text\u001b[39m=\u001b[39;49mis_text,\n\u001b[1;32m   1668\u001b[0m     errors\u001b[39m=\u001b[39;49m\u001b[39mself\u001b[39;49m\u001b[39m.\u001b[39;49moptions\u001b[39m.\u001b[39;49mget(\u001b[39m\"\u001b[39;49m\u001b[39mencoding_errors\u001b[39;49m\u001b[39m\"\u001b[39;49m, \u001b[39m\"\u001b[39;49m\u001b[39mstrict\u001b[39;49m\u001b[39m\"\u001b[39;49m),\n\u001b[1;32m   1669\u001b[0m     storage_options\u001b[39m=\u001b[39;49m\u001b[39mself\u001b[39;49m\u001b[39m.\u001b[39;49moptions\u001b[39m.\u001b[39;49mget(\u001b[39m\"\u001b[39;49m\u001b[39mstorage_options\u001b[39;49m\u001b[39m\"\u001b[39;49m, \u001b[39mNone\u001b[39;49;00m),\n\u001b[1;32m   1670\u001b[0m )\n\u001b[1;32m   1671\u001b[0m \u001b[39massert\u001b[39;00m \u001b[39mself\u001b[39m\u001b[39m.\u001b[39mhandles \u001b[39mis\u001b[39;00m \u001b[39mnot\u001b[39;00m \u001b[39mNone\u001b[39;00m\n\u001b[1;32m   1672\u001b[0m f \u001b[39m=\u001b[39m \u001b[39mself\u001b[39m\u001b[39m.\u001b[39mhandles\u001b[39m.\u001b[39mhandle\n",
      "File \u001b[0;32m~/development/otus/diplom/venv/lib/python3.10/site-packages/pandas/io/common.py:859\u001b[0m, in \u001b[0;36mget_handle\u001b[0;34m(path_or_buf, mode, encoding, compression, memory_map, is_text, errors, storage_options)\u001b[0m\n\u001b[1;32m    854\u001b[0m \u001b[39melif\u001b[39;00m \u001b[39misinstance\u001b[39m(handle, \u001b[39mstr\u001b[39m):\n\u001b[1;32m    855\u001b[0m     \u001b[39m# Check whether the filename is to be opened in binary mode.\u001b[39;00m\n\u001b[1;32m    856\u001b[0m     \u001b[39m# Binary mode does not support 'encoding' and 'newline'.\u001b[39;00m\n\u001b[1;32m    857\u001b[0m     \u001b[39mif\u001b[39;00m ioargs\u001b[39m.\u001b[39mencoding \u001b[39mand\u001b[39;00m \u001b[39m\"\u001b[39m\u001b[39mb\u001b[39m\u001b[39m\"\u001b[39m \u001b[39mnot\u001b[39;00m \u001b[39min\u001b[39;00m ioargs\u001b[39m.\u001b[39mmode:\n\u001b[1;32m    858\u001b[0m         \u001b[39m# Encoding\u001b[39;00m\n\u001b[0;32m--> 859\u001b[0m         handle \u001b[39m=\u001b[39m \u001b[39mopen\u001b[39;49m(\n\u001b[1;32m    860\u001b[0m             handle,\n\u001b[1;32m    861\u001b[0m             ioargs\u001b[39m.\u001b[39;49mmode,\n\u001b[1;32m    862\u001b[0m             encoding\u001b[39m=\u001b[39;49mioargs\u001b[39m.\u001b[39;49mencoding,\n\u001b[1;32m    863\u001b[0m             errors\u001b[39m=\u001b[39;49merrors,\n\u001b[1;32m    864\u001b[0m             newline\u001b[39m=\u001b[39;49m\u001b[39m\"\u001b[39;49m\u001b[39m\"\u001b[39;49m,\n\u001b[1;32m    865\u001b[0m         )\n\u001b[1;32m    866\u001b[0m     \u001b[39melse\u001b[39;00m:\n\u001b[1;32m    867\u001b[0m         \u001b[39m# Binary mode\u001b[39;00m\n\u001b[1;32m    868\u001b[0m         handle \u001b[39m=\u001b[39m \u001b[39mopen\u001b[39m(handle, ioargs\u001b[39m.\u001b[39mmode)\n",
      "\u001b[0;31mFileNotFoundError\u001b[0m: [Errno 2] No such file or directory: 'dataset/result.csv'"
     ]
    }
   ],
   "source": [
    "df = pd.read_csv('dataset/result.csv', sep=',', engine='python')"
   ]
  },
  {
   "cell_type": "code",
   "execution_count": 22,
   "metadata": {},
   "outputs": [],
   "source": [
    "def get_vector_by_text(text) -> []:\n",
    "    tfidf_sent_vectors = []\n",
    "\n",
    "    tokenizer = TfidfVectorizer(stop_words=None)\n",
    "    tokenized_data = tokenizer.fit_transform(text)\n",
    "    feature_names = list(tokenizer.get_feature_names_out())\n",
    "\n",
    "    sent_vec = np.zeros(100) # as word vectors are of zero length\n",
    "    weight_sum =0; # num of words with a valid vector in the sentence/review\n",
    "    for word in text:\n",
    "        vector = model.wv[word]\n",
    "        # obtain the tf_idfidf of a word in a sentence/review\n",
    "        tfidf = tokenized_data [0, feature_names.index(word)]\n",
    "        sent_vec += (vector * tfidf)\n",
    "        weight_sum += tfidf\n",
    "        sent_vec /= weight_sum\n",
    "    tfidf_sent_vectors.append(sent_vec)\n",
    "    return tfidf_sent_vectors\n",
    "    \n"
   ]
  },
  {
   "cell_type": "code",
   "execution_count": 88,
   "metadata": {},
   "outputs": [
    {
     "name": "stderr",
     "output_type": "stream",
     "text": [
      "100%|██████████| 2/2 [00:00<00:00, 3232.60it/s]\n"
     ]
    },
    {
     "name": "stdout",
     "output_type": "stream",
     "text": [
      "[[ 7.64364719e-01  9.18429852e-01  1.14995551e+00  7.27227271e-01\n",
      "  -2.52510160e-01  1.87241006e+00 -4.20541674e-01  5.78596473e-01\n",
      "  -3.89921576e-01 -8.59337211e-01  1.38342083e+00  1.87447441e+00\n",
      "  -1.08938241e+00  6.39604867e-01  2.02597976e+00  1.54741168e+00\n",
      "  -1.06618571e+00  2.96719909e+00 -2.49364114e+00 -1.76956928e+00\n",
      "   8.24022472e-01  2.32724738e+00  2.63922572e+00  8.27197492e-01\n",
      "  -9.92500842e-01  1.24411416e+00  7.31178746e-02 -1.82874095e+00\n",
      "   8.85768771e-01  2.57537317e+00 -4.47489470e-01 -1.06339562e+00\n",
      "  -1.22363114e+00  2.28562683e-01 -1.97889173e+00 -1.43619335e+00\n",
      "  -3.20266175e+00  1.30090451e+00  2.98336744e+00  1.53075075e+00\n",
      "  -9.77540910e-01 -8.59601736e-01 -1.16594207e+00 -3.30367982e-01\n",
      "  -8.19887400e-01  1.09220588e+00 -1.76278079e+00  1.83768344e+00\n",
      "  -4.94398475e-01 -1.82354307e+00  1.05427682e+00  1.06460643e+00\n",
      "  -4.44970606e-03  3.72769535e-01  3.10886550e+00  2.73102641e+00\n",
      "  -2.09745550e+00 -1.11150563e+00  6.92720175e-01  1.43241575e-02\n",
      "   5.62252522e-01  6.79974139e-01 -1.04154789e+00  7.31111467e-01\n",
      "  -2.35463595e+00 -6.32188097e-02  1.56396365e+00  1.46717191e+00\n",
      "  -6.87882662e-01  1.66963205e-01 -5.55503070e-01 -5.07969991e-04\n",
      "   3.68436098e-01 -3.45334142e-01  4.75917369e-01 -3.10928494e-01\n",
      "   2.09050751e+00 -1.93061721e+00  1.78190780e+00  4.06766236e-01\n",
      "   1.05602562e+00  4.14380741e+00 -5.32655641e-02  1.27148712e+00\n",
      "  -2.28240609e+00  1.87946153e+00  1.00991189e+00  7.80572355e-01\n",
      "   1.66349280e+00  2.40050769e+00  1.75811744e+00  2.71822071e+00\n",
      "   9.28426921e-01  4.28089723e-02 -1.04824173e+00  1.40434635e+00\n",
      "  -1.28745222e+00 -2.33435011e+00  2.80132961e+00 -8.75713229e-01]]\n",
      "[[ 0.41165442  1.09646324 -0.35111303 ... -0.23313418  0.39308922\n",
      "  -0.81780651]\n",
      " [-0.11494636 -0.08355632  0.76779248 ... -0.77535081 -0.02482631\n",
      "   0.23299542]\n",
      " [-0.37379294 -0.18142475  0.23640597 ... -1.26575298 -0.67743981\n",
      "   0.2140404 ]\n",
      " ...\n",
      " [ 0.00457347 -0.02067847  0.40758235 ... -0.78087325 -0.43416063\n",
      "   1.08021224]\n",
      " [-0.34360728  0.63395756  0.90843006 ... -0.32467506  0.38538034\n",
      "  -0.0207846 ]\n",
      " [ 0.5144601  -1.13354724  2.1655439  ... -1.95693549 -0.76567075\n",
      "   1.75546786]]\n",
      "{'weight': '0.9076456054378168', 'entity_chiper': '6_KffdPhotoDoc_13564', 'raw text': 'Скульптор М.Г.Манизер в мастерской.'}\n",
      "{'weight': '0.9073995930472358', 'entity_chiper': '6_KffdPhotoDoc_12745', 'raw text': 'Бюст О.Р.Монферрана. Скульптор А.Фолетти.'}\n",
      "{'weight': '0.9028179229131392', 'entity_chiper': '6_KffdPhotoDoc_13454', 'raw text': 'Памятник В.И.Чапаеву в мастерской скульптора М.Г.Манизера.'}\n"
     ]
    }
   ],
   "source": [
    "from sklearn.metrics.pairwise import cosine_similarity\n",
    "\n",
    "search_query = 'скульптор работой'.lower().split(' ')\n",
    "\n",
    "query = get_vector_by_text(process_data(search_query, all_stop_words))\n",
    "\n",
    "query = np.array(list(query))\n",
    "query = np.nan_to_num(query)\n",
    "print(query)\n",
    "\n",
    "vectors = np.array(list(df.FT_tfidf.values))\n",
    "vectors = np.nan_to_num(vectors)\n",
    "print(vectors)\n",
    "\n",
    "cosine_similarities = pd.Series(cosine_similarity(query, vectors).flatten())\n",
    "\n",
    "for i,j in cosine_similarities.nlargest(3).items():\n",
    "  print({'weight':str(j), 'entity_chiper':df.title.iloc[i], 'raw text':df.text.iloc[i]})"
   ]
  }
 ],
 "metadata": {
  "kernelspec": {
   "display_name": "venv",
   "language": "python",
   "name": "python3"
  },
  "language_info": {
   "codemirror_mode": {
    "name": "ipython",
    "version": 3
   },
   "file_extension": ".py",
   "mimetype": "text/x-python",
   "name": "python",
   "nbconvert_exporter": "python",
   "pygments_lexer": "ipython3",
   "version": "3.10.6"
  },
  "orig_nbformat": 4
 },
 "nbformat": 4,
 "nbformat_minor": 2
}
