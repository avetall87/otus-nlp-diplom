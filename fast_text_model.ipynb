{
 "cells": [
  {
   "attachments": {},
   "cell_type": "markdown",
   "metadata": {},
   "source": [
    "# Загрузить датасет"
   ]
  },
  {
   "cell_type": "code",
   "execution_count": 192,
   "metadata": {},
   "outputs": [],
   "source": [
    "# Добавляем импорты\n",
    "\n",
    "from gensim.models import FastText\n",
    "import pandas as pd\n",
    "import numpy as np\n",
    "import pymorphy2\n",
    "import nltk  # Natural Language Toolkit - для загрузки стоп слов русского языка\n",
    "import re\n",
    "\n",
    "from sklearn.ensemble import RandomForestClassifier\n",
    "from sklearn.feature_extraction.text import TfidfVectorizer\n",
    "from tqdm import tqdm  # прогресбарbincount\n",
    "\n",
    "from sklearn.model_selection import train_test_split  # рабиваем данные на traint и test"
   ]
  },
  {
   "attachments": {},
   "cell_type": "markdown",
   "metadata": {},
   "source": [
    "### Создаем утилиты для работы с датасетом"
   ]
  },
  {
   "cell_type": "code",
   "execution_count": 3,
   "metadata": {},
   "outputs": [],
   "source": [
    "regex = re.compile(r'[А-Яа-яA-zёЁ-]+')\n",
    "def words_only(text, regex=regex):\n",
    "    try:\n",
    "        return \" \".join(regex.findall(text)).lower()\n",
    "    except Exception as e:\n",
    "        return \"\""
   ]
  },
  {
   "cell_type": "code",
   "execution_count": 4,
   "metadata": {},
   "outputs": [],
   "source": [
    "def process_data(data, all_stop_words) -> []:\n",
    "    word_tokenizer = nltk.WordPunctTokenizer()\n",
    "\n",
    "    texts = []\n",
    "    targets = []\n",
    "\n",
    "    # инициализируем лемматизатор\n",
    "    morph = pymorphy2.MorphAnalyzer()\n",
    "\n",
    "    # поочередно проходим по всем новостям в списке\n",
    "    for item in tqdm(data):\n",
    "        text_lower = words_only(item)  # оставим только слова\n",
    "        tokens = word_tokenizer.tokenize(texкраснооармеецt_lower)  # разбиваем текст на слова\n",
    "\n",
    "        # удаляем пунктуацию и стоп-слова, а так же лемитизируем  слова\n",
    "        tokens = [morph.parse(word)[0].normal_form for word in tokens if\n",
    "                  (word not in all_stop_words and not word.isnumeric())]\n",
    "\n",
    "        # texts.append(tokens) # добавляем в предобработанный список\n",
    "        texts.append(' '.join(tokens))\n",
    "\n",
    "    return texts"
   ]
  },
  {
   "cell_type": "code",
   "execution_count": 5,
   "metadata": {},
   "outputs": [],
   "source": [
    "def read_prepared_datasets(file_name) -> []:\n",
    "    result = []\n",
    "    with open(file_name, 'r', encoding='utf-8') as file:\n",
    "        for line in file.readlines():\n",
    "            # result.append(line.replace('\\n', ''))\n",
    "            result.append(line)\n",
    "    return result"
   ]
  },
  {
   "cell_type": "code",
   "execution_count": 6,
   "metadata": {},
   "outputs": [
    {
     "name": "stderr",
     "output_type": "stream",
     "text": [
      "[nltk_data] Downloading package stopwords to\n",
      "[nltk_data]     /home/avetall87/nltk_data...\n",
      "[nltk_data]   Package stopwords is already up-to-date!\n"
     ]
    }
   ],
   "source": [
    "# загружаем список стоп-слов для русского\n",
    "nltk.download('stopwords')\n",
    "stop_words = nltk.corpus.stopwords.words('russian')"
   ]
  },
  {
   "cell_type": "code",
   "execution_count": 7,
   "metadata": {},
   "outputs": [],
   "source": [
    "prepared_dataset_file_name = 'dataset/prepared_dataset.txt'\n",
    "\n",
    "# расширим список стоп-слов, словами, которые являеются стоп-словами в данной задаче\n",
    "add_stop_words = ['ао', 'оао', 'ооо']\n",
    "months = ['январь', 'февраль', 'март', 'апрель', 'май', 'июнь', 'июль', 'август', 'сентябрь', 'октябрь', 'ноябрь',\n",
    "            'декабрь', ]\n",
    "all_stop_words = stop_words + add_stop_words + months\n",
    "\n",
    "df = pd.read_csv('dataset/dataset.csv', sep=',', engine='python')\n",
    "\n",
    "y = df['title'].tolist()"
   ]
  },
  {
   "cell_type": "code",
   "execution_count": 8,
   "metadata": {},
   "outputs": [
    {
     "data": {
      "text/plain": [
       "['подвижный сбор год днёвка деревня катеринный\\n',\n",
       " 'герой советский союз лётчик медноног скульптор м аникушин генеральный консул народный республика болгария ленинград вангел петрович трынок слева направо мастерская скульптор\\n',\n",
       " 'дважды герой соц труд смирнов избирательный участок время выборы местный совет народный судья\\n']"
      ]
     },
     "execution_count": 8,
     "metadata": {},
     "output_type": "execute_result"
    }
   ],
   "source": [
    "texts = read_prepared_datasets(prepared_dataset_file_name)\n",
    "len(texts)\n",
    "texts[0:3]"
   ]
  },
  {
   "attachments": {},
   "cell_type": "markdown",
   "metadata": {},
   "source": [
    "# Создаем модель FastText и обучаем ее"
   ]
  },
  {
   "cell_type": "code",
   "execution_count": 9,
   "metadata": {},
   "outputs": [],
   "source": [
    "prepared_vocabulary = []\n",
    "\n",
    "for words in texts:\n",
    "  splitted_data = words.split(' ')\n",
    "  prepared_vocabulary.append(splitted_data)"
   ]
  },
  {
   "cell_type": "code",
   "execution_count": 10,
   "metadata": {},
   "outputs": [],
   "source": [
    "model = FastText(prepared_vocabulary,min_count=1, vector_size=100, workers=4)"
   ]
  },
  {
   "cell_type": "code",
   "execution_count": 11,
   "metadata": {},
   "outputs": [],
   "source": [
    "pretrained_vectors = model.wv"
   ]
  },
  {
   "cell_type": "code",
   "execution_count": 190,
   "metadata": {},
   "outputs": [
    {
     "name": "stderr",
     "output_type": "stream",
     "text": [
      "100%|██████████| 116000/116000 [00:00<00:00, 949257.85it/s]\n"
     ]
    }
   ],
   "source": [
    "#TF-IDF # needs a list of lists for words and docs along with a fasttext 'model'\n",
    "text = []\n",
    "for i in tqdm(prepared_vocabulary):\n",
    "  string = ' '.join(i)\n",
    "  text.append(string)\n",
    "tf_idf_vect = TfidfVectorizer(stop_words=None)\n",
    "final_tf_idf = tf_idf_vect.fit_transform(text)\n",
    "tfidf_feat = list(tf_idf_vect.get_feature_names_out())"
   ]
  },
  {
   "cell_type": "code",
   "execution_count": 61,
   "metadata": {},
   "outputs": [
    {
     "name": "stderr",
     "output_type": "stream",
     "text": [
      " 82%|████████▏ | 95200/116000 [03:36<00:46, 444.84it/s]/tmp/ipykernel_431687/1614986564.py:20: RuntimeWarning: invalid value encountered in divide\n",
      "  sent_vec /= weight_sum\n",
      "100%|██████████| 116000/116000 [04:25<00:00, 437.63it/s]"
     ]
    },
    {
     "name": "stdout",
     "output_type": "stream",
     "text": [
      "errors noted: 1\n"
     ]
    },
    {
     "name": "stderr",
     "output_type": "stream",
     "text": [
      "\n"
     ]
    }
   ],
   "source": [
    "tfidf_sent_vectors = []; # the tfidf-w2v for each sentence/review is stored in this list\n",
    "\n",
    "row=0;\n",
    "errors=0\n",
    "for sent in tqdm(texts): # for each review/sentence\n",
    "    sent_vec = np.zeros(100) # as word vectors are of zero length\n",
    "    weight_sum =0; # num of words with a valid vector in the sentence/review\n",
    "    for word in sent.split(' '): # for each word in a review/sentence\n",
    "        word = word.replace('\\n', '') # костыль\n",
    "        try:\n",
    "            vec = model.wv[word]\n",
    "            # obtain the tf_idfidf of a word in a sentence/review\n",
    "            tfidf = final_tf_idf [row, tfidf_feat.index(word)]\n",
    "            sent_vec += (vec * tfidf)\n",
    "            weight_sum += tfidf\n",
    "        except Exception as e:\n",
    "            # print(e.__traceback__)\n",
    "            errors =+1\n",
    "            pass\n",
    "    sent_vec /= weight_sum\n",
    "    #print(np.isnan(np.sum(sent_vec)))\n",
    "\n",
    "    tfidf_sent_vectors.append(sent_vec)\n",
    "    row += 1\n",
    "print('errors noted: '+str(errors))"
   ]
  },
  {
   "cell_type": "code",
   "execution_count": 62,
   "metadata": {},
   "outputs": [],
   "source": [
    "df['FT_tfidf'] = tfidf_sent_vectors"
   ]
  },
  {
   "cell_type": "code",
   "execution_count": 63,
   "metadata": {},
   "outputs": [
    {
     "data": {
      "text/html": [
       "<div>\n",
       "<style scoped>\n",
       "    .dataframe tbody tr th:only-of-type {\n",
       "        vertical-align: middle;\n",
       "    }\n",
       "\n",
       "    .dataframe tbody tr th {\n",
       "        vertical-align: top;\n",
       "    }\n",
       "\n",
       "    .dataframe thead th {\n",
       "        text-align: right;\n",
       "    }\n",
       "</style>\n",
       "<table border=\"1\" class=\"dataframe\">\n",
       "  <thead>\n",
       "    <tr style=\"text-align: right;\">\n",
       "      <th></th>\n",
       "      <th>title</th>\n",
       "      <th>text</th>\n",
       "      <th>FT_tfidf</th>\n",
       "    </tr>\n",
       "  </thead>\n",
       "  <tbody>\n",
       "    <tr>\n",
       "      <th>0</th>\n",
       "      <td>6_KffdPhotoDoc_65243</td>\n",
       "      <td>Подвижной сбор 1901 года.Дневка у деревни Кате...</td>\n",
       "      <td>[0.4274079408952849, 1.1096172831857587, -0.32...</td>\n",
       "    </tr>\n",
       "    <tr>\n",
       "      <th>1</th>\n",
       "      <td>6_KffdPhotoDoc_941</td>\n",
       "      <td>Герой Советского Союза, летчик В.А.Медноногов,...</td>\n",
       "      <td>[-0.046664259157152686, -0.15360252287640344, ...</td>\n",
       "    </tr>\n",
       "    <tr>\n",
       "      <th>2</th>\n",
       "      <td>6_KffdPhotoDoc_6002</td>\n",
       "      <td>Дважды Герой Соц.Труда В.А.Смирнов на избирате...</td>\n",
       "      <td>[-0.600270424404498, -0.18900403293787302, -0....</td>\n",
       "    </tr>\n",
       "    <tr>\n",
       "      <th>3</th>\n",
       "      <td>6_KffdPhotoDoc_65096</td>\n",
       "      <td>Вид сверху на казармы полка.</td>\n",
       "      <td>[-0.19469520797679657, 2.2874588868352457, 0.6...</td>\n",
       "    </tr>\n",
       "    <tr>\n",
       "      <th>4</th>\n",
       "      <td>6_KffdPhotoDoc_95843</td>\n",
       "      <td>Генерал казачьих войск Холмский (сидит 2-ой сл...</td>\n",
       "      <td>[-0.347157855308892, 0.9242511216400016, 1.307...</td>\n",
       "    </tr>\n",
       "    <tr>\n",
       "      <th>5</th>\n",
       "      <td>6_KffdPhotoDoc_66745</td>\n",
       "      <td>Секции армокаркаса у подножия бокового корпуса.</td>\n",
       "      <td>[-0.15875997485742965, 1.113579837411286, 0.31...</td>\n",
       "    </tr>\n",
       "    <tr>\n",
       "      <th>6</th>\n",
       "      <td>6_KffdPhotoDoc_58622</td>\n",
       "      <td>Кавалерийские части на параде войск проходят м...</td>\n",
       "      <td>[-0.7148876100601762, 0.4594124530887603, 1.34...</td>\n",
       "    </tr>\n",
       "    <tr>\n",
       "      <th>7</th>\n",
       "      <td>6_KffdPhotoDoc_71835</td>\n",
       "      <td>Пассажирский поезд прибыл на Финляндский вокзал.</td>\n",
       "      <td>[-1.0832420299290293, 0.40646691571440474, 1.0...</td>\n",
       "    </tr>\n",
       "    <tr>\n",
       "      <th>8</th>\n",
       "      <td>6_KffdPhotoDoc_112688</td>\n",
       "      <td>Хирург, профессор, орденоносец И.П.Виноградов ...</td>\n",
       "      <td>[-0.5762575419288866, 0.4494334174335709, 0.68...</td>\n",
       "    </tr>\n",
       "    <tr>\n",
       "      <th>9</th>\n",
       "      <td>6_KffdPhotoDoc_18624</td>\n",
       "      <td>Скульптор В.Б. Пинчук за работой над скульптур...</td>\n",
       "      <td>[0.21281676094631377, 0.5626009489365782, 0.52...</td>\n",
       "    </tr>\n",
       "  </tbody>\n",
       "</table>\n",
       "</div>"
      ],
      "text/plain": [
       "                   title                                               text   \n",
       "0   6_KffdPhotoDoc_65243  Подвижной сбор 1901 года.Дневка у деревни Кате...  \\\n",
       "1     6_KffdPhotoDoc_941  Герой Советского Союза, летчик В.А.Медноногов,...   \n",
       "2    6_KffdPhotoDoc_6002  Дважды Герой Соц.Труда В.А.Смирнов на избирате...   \n",
       "3   6_KffdPhotoDoc_65096                       Вид сверху на казармы полка.   \n",
       "4   6_KffdPhotoDoc_95843  Генерал казачьих войск Холмский (сидит 2-ой сл...   \n",
       "5   6_KffdPhotoDoc_66745    Секции армокаркаса у подножия бокового корпуса.   \n",
       "6   6_KffdPhotoDoc_58622  Кавалерийские части на параде войск проходят м...   \n",
       "7   6_KffdPhotoDoc_71835   Пассажирский поезд прибыл на Финляндский вокзал.   \n",
       "8  6_KffdPhotoDoc_112688  Хирург, профессор, орденоносец И.П.Виноградов ...   \n",
       "9   6_KffdPhotoDoc_18624  Скульптор В.Б. Пинчук за работой над скульптур...   \n",
       "\n",
       "                                            FT_tfidf  \n",
       "0  [0.4274079408952849, 1.1096172831857587, -0.32...  \n",
       "1  [-0.046664259157152686, -0.15360252287640344, ...  \n",
       "2  [-0.600270424404498, -0.18900403293787302, -0....  \n",
       "3  [-0.19469520797679657, 2.2874588868352457, 0.6...  \n",
       "4  [-0.347157855308892, 0.9242511216400016, 1.307...  \n",
       "5  [-0.15875997485742965, 1.113579837411286, 0.31...  \n",
       "6  [-0.7148876100601762, 0.4594124530887603, 1.34...  \n",
       "7  [-1.0832420299290293, 0.40646691571440474, 1.0...  \n",
       "8  [-0.5762575419288866, 0.4494334174335709, 0.68...  \n",
       "9  [0.21281676094631377, 0.5626009489365782, 0.52...  "
      ]
     },
     "execution_count": 63,
     "metadata": {},
     "output_type": "execute_result"
    }
   ],
   "source": [
    "df.head(10)"
   ]
  },
  {
   "cell_type": "code",
   "execution_count": 251,
   "metadata": {},
   "outputs": [],
   "source": [
    "# Сохраняем данные в файл\n",
    "df.to_csv(path_or_buf='dataset/result.csv', encoding='utf-8', index_label=['title', 'FT_tfidf'])"
   ]
  },
  {
   "cell_type": "code",
   "execution_count": 235,
   "metadata": {},
   "outputs": [],
   "source": [
    "def get_vector_by_text(text) -> []:\n",
    "    tfidf_sent_vectors = []\n",
    "\n",
    "    tokenizer = TfidfVectorizer(stop_words=None)\n",
    "    tokenized_data = tokenizer.fit_transform(text)\n",
    "    feature_names = list(tokenizer.get_feature_names_out())\n",
    "\n",
    "    sent_vec = np.zeros(100) # as word vectors are of zero length\n",
    "    weight_sum =0; # num of words with a valid vector in the sentence/review\n",
    "    for word in text:\n",
    "        vector = model.wv[word]\n",
    "        # obtain the tf_idfidf of a word in a sentence/review\n",
    "        tfidf = tokenized_data [0, feature_names.index(word)]\n",
    "        sent_vec += (vector * tfidf)\n",
    "        weight_sum += tfidf\n",
    "        sent_vec /= weight_sum\n",
    "    tfidf_sent_vectors.append(sent_vec)\n",
    "    return tfidf_sent_vectors\n",
    "    \n"
   ]
  },
  {
   "cell_type": "code",
   "execution_count": 256,
   "metadata": {},
   "outputs": [
    {
     "name": "stderr",
     "output_type": "stream",
     "text": [
      "100%|██████████| 3/3 [00:00<00:00, 5291.38it/s]"
     ]
    },
    {
     "name": "stdout",
     "output_type": "stream",
     "text": [
      "['сельскохозяйственный', 'угодия', 'ленинград']\n",
      "['ленинград', 'сельскохозяйственный', 'угодия']\n",
      "{'weight': '0.9248039822132548', 'entity_chiper': '6_KffdPhotoDoc_79515', 'raw text': 'Посетители областной сельскохозяйственной выставки осматривают сельскохозяйственную технику( панорама из 2-х снимков).'}\n",
      "{'weight': '0.9215985248897494', 'entity_chiper': '6_KffdPhotoDoc_79572', 'raw text': 'Ленинградские ученые - участники Всесоюзной сельскохозяйственной выставки.Слева направо: директор Всесоюзного научно-исследовательского  института сельскохозяйственной микробиологии , действительный член Всесоюзной академии сельскохозяйственных наук им.В.И.Ленина И.И.Самойлов , заведующая лабораторией переработки сельскохозяйственной продукции к.б.н. М.М.Макарова и заведующий лабораторией биологических удобрений к.б.н.Л.М.Доросинский.'}\n",
      "{'weight': '0.9205426376187464', 'entity_chiper': '6_KffdPhotoDoc_79563', 'raw text': 'Ленинградские ученые - участники Всесоюзной сельскохозяйственной выставки (слева направо): директор лаборатории разведения животных Ленинградского сельскохозяйственного института , доктор сельскохозяйственных наук , профессор С.Г.Давыдов, заведующий кафедрой кормления сельскохозяйственных животных Ленинградского ветеринарного института профессор,  доктор сельскохозяйственных наук А.П.Дмитроченко и заведующий отделом кормодобывания Ленинградской областной сельскохозяйственной опытной станции к.с.н. Д.А.Иванов.'}\n"
     ]
    },
    {
     "name": "stderr",
     "output_type": "stream",
     "text": [
      "\n"
     ]
    }
   ],
   "source": [
    "from sklearn.metrics.pairwise import cosine_similarity\n",
    "\n",
    "search_query = 'сельскохозяйственные угодия Ленинграда'.lower().split(' ')\n",
    "\n",
    "query = get_vector_by_text(process_data(search_query, all_stop_words))\n",
    "\n",
    "query = np.array(list(query))\n",
    "query = np.nan_to_num(query)\n",
    "\n",
    "vectors = np.array(list(df.FT_tfidf.values))\n",
    "vectors = np.nan_to_num(vectors)\n",
    "\n",
    "cosine_similarities = pd.Series(cosine_similarity(query, vectors).flatten())\n",
    "\n",
    "for i,j in cosine_similarities.nlargest(3).items():\n",
    "  print({'weight':str(j), 'entity_chiper':df.title.iloc[i], 'raw text':df.text.iloc[i]})"
   ]
  }
 ],
 "metadata": {
  "kernelspec": {
   "display_name": "venv",
   "language": "python",
   "name": "python3"
  },
  "language_info": {
   "codemirror_mode": {
    "name": "ipython",
    "version": 3
   },
   "file_extension": ".py",
   "mimetype": "text/x-python",
   "name": "python",
   "nbconvert_exporter": "python",
   "pygments_lexer": "ipython3",
   "version": "3.10.6"
  },
  "orig_nbformat": 4
 },
 "nbformat": 4,
 "nbformat_minor": 2
}
